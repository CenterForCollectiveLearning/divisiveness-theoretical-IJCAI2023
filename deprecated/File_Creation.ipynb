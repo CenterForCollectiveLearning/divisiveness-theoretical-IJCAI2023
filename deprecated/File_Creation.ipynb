{
 "cells": [
  {
   "cell_type": "code",
   "execution_count": 1,
   "metadata": {},
   "outputs": [],
   "source": [
    "from glob import glob\n",
    "\n",
    "import pandas as pd"
   ]
  },
  {
   "cell_type": "code",
   "execution_count": 2,
   "metadata": {},
   "outputs": [],
   "source": [
    "for step in [6, 10]:\n",
    "    for method in [\"UM50\", \"UM10\", \"IC\"]:\n",
    "        for voting in [\"borda\", \"copeland\"]:\n",
    "            output = []\n",
    "            for path in glob(f\"../data/{voting}_{method}_*_step_{step}.csv\"):\n",
    "                tmp = pd.read_csv(path)\n",
    "                output.append(tmp)\n",
    "\n",
    "            df = pd.concat(output, ignore_index=True)\n",
    "            df[\"method\"] = method\n",
    "            df[\"voting\"] = voting\n",
    "            df[\"step\"] = step\n",
    "            df.to_csv(f\"../data/experiment_3_method_{method}_profile_100_step_{step}_{voting}.csv\", index=False)"
   ]
  }
 ],
 "metadata": {
  "kernelspec": {
   "display_name": "Python 3",
   "language": "python",
   "name": "python3"
  },
  "language_info": {
   "codemirror_mode": {
    "name": "ipython",
    "version": 3
   },
   "file_extension": ".py",
   "mimetype": "text/x-python",
   "name": "python",
   "nbconvert_exporter": "python",
   "pygments_lexer": "ipython3",
   "version": "3.10.8"
  },
  "orig_nbformat": 4,
  "vscode": {
   "interpreter": {
    "hash": "369f2c481f4da34e4445cda3fffd2e751bd1c4d706f27375911949ba6bb62e1c"
   }
  }
 },
 "nbformat": 4,
 "nbformat_minor": 2
}
